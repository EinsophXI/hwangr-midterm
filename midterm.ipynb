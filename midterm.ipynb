{
 "cells": [
  {
   "cell_type": "markdown",
   "metadata": {},
   "source": [
    "# Libraries"
   ]
  },
  {
   "cell_type": "code",
   "execution_count": 3,
   "metadata": {},
   "outputs": [],
   "source": [
    "import pickle\n",
    "import pandas as pd\n",
    "import seaborn as sns\n",
    "import numpy as np\n",
    "from textblob import TextBlob\n",
    "from collections import Counter\n",
    "import re\n",
    "from os.path import exists\n",
    "import matplotlib.pyplot as plt\n",
    "from sklearn.neighbors import KNeighborsClassifier\n",
    "from sklearn.model_selection import train_test_split\n",
    "from sklearn.metrics import accuracy_score, confusion_matrix"
   ]
  },
  {
   "cell_type": "markdown",
   "metadata": {},
   "source": [
    "# Loading the Files\n",
    "\n",
    "Download the csv files into the `data/` directory."
   ]
  },
  {
   "cell_type": "code",
   "execution_count": 4,
   "metadata": {},
   "outputs": [
    {
     "name": "stdout",
     "output_type": "stream",
     "text": [
      "train.csv shape is  (1697533, 9)\n",
      "test.csv shape is  (212192, 2)\n",
      "\n",
      "        Id   ProductId          UserId  HelpfulnessNumerator  \\\n",
      "0   914403  B0009W5KHM   AV6QDP8Q0ONK4                     2   \n",
      "1   354887  6303079709  A2I8RXJN80A2D2                     0   \n",
      "2  1407653  B004H0M2XC  A3FHV3RV8Z12E6                     0   \n",
      "3  1377458  B003ZJ9536  A12VLTA3ZHVPUY                     1   \n",
      "4   475323  630574453X  A13NM1PES9OXVN                     2   \n",
      "\n",
      "   HelpfulnessDenominator        Time  \\\n",
      "0                       2  1341014400   \n",
      "1                       0  1168819200   \n",
      "2                       0  1386201600   \n",
      "3                       1  1348704000   \n",
      "4                       3   970012800   \n",
      "\n",
      "                                         Summary  \\\n",
      "0                                  GOOD FUN FILM   \n",
      "1                                   Movie Review   \n",
      "2             When is it a good time to Consent?   \n",
      "3                                          TRUTH   \n",
      "4  Intelligent and bittersweet -- stays with you   \n",
      "\n",
      "                                                Text  Score  \n",
      "0  While most straight to DVD films are not worth...    5.0  \n",
      "1  I have wanted this one for sometime, also.  I ...    5.0  \n",
      "2  Actually this was a pretty darn good indie fil...    4.0  \n",
      "3  Episodes 37 to 72 of the series press on in a ...    5.0  \n",
      "4  I was really impressed with this movie, but wa...    3.0  \n",
      "\n",
      "        Id  Score\n",
      "0  1323432    NaN\n",
      "1  1137299    NaN\n",
      "2  1459366    NaN\n",
      "3   931601    NaN\n",
      "4  1311995    NaN\n",
      "\n",
      "                 Id  HelpfulnessNumerator  HelpfulnessDenominator  \\\n",
      "count  1.697533e+06          1.697533e+06            1.697533e+06   \n",
      "mean   8.487660e+05          3.569048e+00            5.301422e+00   \n",
      "std    4.900357e+05          1.727883e+01            2.024445e+01   \n",
      "min    0.000000e+00          0.000000e+00            0.000000e+00   \n",
      "25%    4.243830e+05          0.000000e+00            0.000000e+00   \n",
      "50%    8.487660e+05          1.000000e+00            1.000000e+00   \n",
      "75%    1.273149e+06          3.000000e+00            5.000000e+00   \n",
      "max    1.697532e+06          6.084000e+03            6.510000e+03   \n",
      "\n",
      "               Time         Score  \n",
      "count  1.697533e+06  1.485341e+06  \n",
      "mean   1.262422e+09  4.110517e+00  \n",
      "std    1.289277e+08  1.197651e+00  \n",
      "min    8.793792e+08  1.000000e+00  \n",
      "25%    1.164413e+09  4.000000e+00  \n",
      "50%    1.307491e+09  5.000000e+00  \n",
      "75%    1.373242e+09  5.000000e+00  \n",
      "max    1.406074e+09  5.000000e+00  \n"
     ]
    },
    {
     "data": {
      "image/png": "[encoded data removed]",
      "text/plain": [
       "<Figure size 640x480 with 1 Axes>"
      ]
     },
     "metadata": {},
     "output_type": "display_data"
    },
    {
     "name": "stdout",
     "output_type": "stream",
     "text": [
      "\n",
      "EVERYTHING IS PROPERLY SET UP! YOU ARE READY TO START\n"
     ]
    }
   ],
   "source": [
    "trainingSet = pd.read_csv(\"./data/train.csv\")\n",
    "testingSet = pd.read_csv(\"./data/test.csv\")\n",
    "\n",
    "print(\"train.csv shape is \", trainingSet.shape)\n",
    "print(\"test.csv shape is \", testingSet.shape)\n",
    "\n",
    "print()\n",
    "\n",
    "print(trainingSet.head())\n",
    "print()\n",
    "print(testingSet.head())\n",
    "\n",
    "print()\n",
    "\n",
    "print(trainingSet.describe())\n",
    "\n",
    "trainingSet['Score'].value_counts().plot(kind='bar', legend=True, alpha=.5)\n",
    "plt.show()\n",
    "\n",
    "print()\n",
    "print(\"EVERYTHING IS PROPERLY SET UP! YOU ARE READY TO START\")"
   ]
  },
  {
   "cell_type": "markdown",
   "metadata": {},
   "source": [
    "# Adding Features"
   ]
  },
  {
   "cell_type": "code",
   "execution_count": 5,
   "metadata": {},
   "outputs": [],
   "source": [
    "stop_words = [\n",
    "    'i', 'me', 'my', 'myself', 'we', 'our', 'ours', 'ourselves',\n",
    "    'you', 'your', 'yours', 'yourself', 'yourselves', 'he', 'him',\n",
    "    'his', 'himself', 'she', 'her', 'hers', 'herself', 'it', 'its',\n",
    "    'itself', 'they', 'them', 'their', 'theirs', 'themselves', 'what',\n",
    "    'which', 'who', 'whom', 'this', 'that', 'these', 'those', 'am',\n",
    "    'is', 'are', 'was', 'were', 'be', 'been', 'being', 'have', 'has',\n",
    "    'had', 'having', 'do', 'does', 'did', 'doing', 'a', 'an', 'the',\n",
    "    'and', 'but', 'if', 'or', 'because', 'as', 'until', 'while',\n",
    "    'of', 'at', 'by', 'for', 'with', 'about', 'against', 'between',\n",
    "    'into', 'through', 'during', 'before', 'after', 'above', 'below',\n",
    "    'to', 'from', 'up', 'down', 'in', 'out', 'on', 'off', 'over',\n",
    "    'under', 'again', 'further', 'then', 'once', 'here', 'there',\n",
    "    'when', 'where', 'why', 'how', 'all', 'any', 'both', 'each',\n",
    "    'few', 'more', 'most', 'other', 'some', 'such', 'no', 'nor',\n",
    "    'not', 'only', 'own', 'same', 'so', 'than', 'too', 'very', 's',\n",
    "    't', 'can', 'will', 'just', 'don', 'should', 'now',\n",
    "    'say', 'says', 'said', 'say', 'tell', 'told', 'could', 'would',\n",
    "    'should', 'might', 'must', 'shall', 'may', 'like', 'as', 'into',\n",
    "    'over', 'after', 'before', 'up', 'down', 'again', 'out', 'since',\n",
    "    'while', 'where', 'yet', 'so', 'because', 'that',\n",
    "    'if', 'whether', 'whether', 'both', 'either', 'neither', 'each',\n",
    "    'few', 'less', 'least', 'most', 'much', 'more', 'many', 'nobody',\n",
    "    'somebody', 'everybody', 'anybody', 'noone', 'nothing', 'everything',\n",
    "    'anything', 'one', 'two', 'three', 'first', 'second', 'third',\n",
    "    'next', 'last', 'same', 'different', 'much', 'more', 'less', 'least',\n",
    "    'either', 'neither', 'either', 'nor', 'whether', 'whoever', 'whomever', \n",
    "    'whatever', 'whichever', 'whatsoever',\n",
    "    'the', 'and', 'is', 'in', 'to', 'of', 'it', 'a', 'that', 'this', \n",
    "    'for', 'with', 's', 'as', 'was', 'you', 'movie', 'on', 'but', \n",
    "    'are', 'his', 'her', 'one', 'film', 'he', 'she', 'have', 'all', \n",
    "    'not', 't', 'be', 'by', 'from', 'who', 'an', 'they', 'so', \n",
    "    'at', 'my', 'has', 'there', 'if', 'about', 'out', 'or', 'just', 'will', \n",
    "    'movies', 'films', 'story', 'dvd', 'time', 'people'\n",
    "]"
   ]
  },
  {
   "cell_type": "code",
   "execution_count": 6,
   "metadata": {},
   "outputs": [
    {
     "name": "stdout",
     "output_type": "stream",
     "text": [
      "Top words for rating 5: {'also', 'great', 'best', 'show', 'get', 'see', 'love', 'good', 'well', 'really'}\n",
      "Top words for rating 4: {'way', 'also', 'great', 'still', 'get', 'see', 'even', 'good', 'well', 'really'}\n",
      "Top words for rating 3: {'way', 'also', 'great', 'get', 'see', 'even', 'good', 'well', 'really', 'better'}\n",
      "Top words for rating 2: {'way', 'bad', 'make', 'get', 'even', 'see', 'good', 'well', 'really', 'better'}\n",
      "Top words for rating 1: {'made', 'way', 'bad', 'make', 'get', 'even', 'see', 'good', 'watch', 'really'}\n"
     ]
    }
   ],
   "source": [
    "def get_top_words_by_rating_chunked(df, star_rating, stop_words=None, top_n=10, chunk_size=10000):\n",
    "    if stop_words is None:\n",
    "        stop_words = []\n",
    "    \n",
    "    word_counts = Counter()\n",
    "    \n",
    "    # Filter DataFrame by the specified star rating in chunks\n",
    "    filtered_df = df[df['Score'] == star_rating]\n",
    "    \n",
    "    for start in range(0, len(filtered_df), chunk_size):\n",
    "        chunk = filtered_df[start:start+chunk_size]\n",
    "        combined_text = ' '.join(chunk['Text'].fillna(''))\n",
    "        \n",
    "        # Tokenize and remove stop words\n",
    "        words = re.findall(r'\\b\\w+\\b', combined_text.lower())\n",
    "        filtered_words = [word for word in words if word not in stop_words]\n",
    "        \n",
    "        # Update the word counts\n",
    "        word_counts.update(filtered_words)\n",
    "    \n",
    "    # Get the top N most common words\n",
    "    most_common_words = word_counts.most_common(top_n)\n",
    "    \n",
    "    # Convert the words into a set\n",
    "    top_words_set = set([word for word, freq in most_common_words])\n",
    "    \n",
    "    return top_words_set\n",
    "\n",
    "# Example of processing in smaller chunks\n",
    "top_words_5 = get_top_words_by_rating_chunked(trainingSet, star_rating=5, stop_words=stop_words)\n",
    "top_words_4 = get_top_words_by_rating_chunked(trainingSet, star_rating=4, stop_words=stop_words)\n",
    "top_words_3 = get_top_words_by_rating_chunked(trainingSet, star_rating=3, stop_words=stop_words)\n",
    "top_words_2 = get_top_words_by_rating_chunked(trainingSet, star_rating=2, stop_words=stop_words)\n",
    "top_words_1 = get_top_words_by_rating_chunked(trainingSet, star_rating=1, stop_words=stop_words)\n",
    "print(\"Top words for rating 5:\", top_words_5)\n",
    "print(\"Top words for rating 4:\", top_words_4)\n",
    "print(\"Top words for rating 3:\", top_words_3)\n",
    "print(\"Top words for rating 2:\", top_words_2)\n",
    "print(\"Top words for rating 1:\", top_words_1)"
   ]
  },
  {
   "cell_type": "code",
   "execution_count": 8,
   "metadata": {},
   "outputs": [],
   "source": [
    "# Function to get all words by rating in chunks\n",
    "def get_all_words_by_rating(df, star_rating, stop_words=None, chunk_size=10000):\n",
    "    if stop_words is None:\n",
    "        stop_words = []\n",
    "    \n",
    "    # Initialize a set to hold all words for the specified rating\n",
    "    all_words_set = set()\n",
    "    \n",
    "    # Get the number of chunks\n",
    "    num_chunks = int(np.ceil(len(df) / chunk_size))\n",
    "    \n",
    "    for i in range(num_chunks):\n",
    "        # Get the chunk\n",
    "        chunk = df[i*chunk_size:(i+1)*chunk_size]\n",
    "        \n",
    "        # Filter the chunk by the specified star rating\n",
    "        filtered_chunk = chunk[chunk['Score'] == star_rating]\n",
    "        \n",
    "        # Combine all the texts for the specified rating into one string\n",
    "        combined_text = ' '.join(filtered_chunk['Text'].fillna(''))\n",
    "        \n",
    "        # Tokenize the text: remove punctuation and split into words\n",
    "        words = re.findall(r'\\b\\w+\\b', combined_text.lower())\n",
    "        \n",
    "        # Remove stop words\n",
    "        filtered_words = [word for word in words if word not in stop_words]\n",
    "        \n",
    "        # Update the set of words\n",
    "        all_words_set.update(filtered_words)\n",
    "    \n",
    "    return all_words_set\n",
    "\n",
    "# Get words for each star rating\n",
    "words_5 = get_all_words_by_rating(trainingSet, star_rating=5, stop_words=stop_words)\n",
    "words_4 = get_all_words_by_rating(trainingSet, star_rating=4, stop_words=stop_words)\n",
    "words_3 = get_all_words_by_rating(trainingSet, star_rating=3, stop_words=stop_words)\n",
    "words_2 = get_all_words_by_rating(trainingSet, star_rating=2, stop_words=stop_words)\n",
    "words_1 = get_all_words_by_rating(trainingSet, star_rating=1, stop_words=stop_words)\n",
    "\n",
    "# Calculate common words using set intersections\n",
    "common_words = set()\n",
    "\n",
    "# For each combination, find common words and add to the common_words set\n",
    "common_words.update(words_5.intersection(words_1, words_2, words_3))\n",
    "common_words.update(words_4.intersection(words_2, words_1))\n",
    "common_words.update(words_3.intersection(words_5, words_1))\n",
    "common_words.update(words_2.intersection(words_5, words_4))\n",
    "common_words.update(words_1.intersection(words_3, words_4, words_5))\n",
    "\n",
    "# Calculate unique words for each rating\n",
    "unique_words_5 = words_5 - common_words\n",
    "unique_words_4 = words_4 - common_words\n",
    "unique_words_3 = words_3 - common_words\n",
    "unique_words_2 = words_2 - common_words\n",
    "unique_words_1 = words_1 - common_words"
   ]
  },
  {
   "cell_type": "code",
   "execution_count": 9,
   "metadata": {},
   "outputs": [],
   "source": [
    "def add_features_to(df):\n",
    "    # This is where you can do all your feature extraction\n",
    "\n",
    "    df['Helpfulness'] = df['HelpfulnessNumerator'] / df['HelpfulnessDenominator']\n",
    "    df['Helpfulness'] = df['Helpfulness'].fillna(0)\n",
    "\n",
    "    # Common words for each star\n",
    "    common_words_star_5 = unique_words_5\n",
    "    common_words_star_4 = unique_words_4\n",
    "    common_words_star_3 = unique_words_3\n",
    "    common_words_star_2 = unique_words_2\n",
    "    common_words_star_1 = unique_words_1\n",
    "    \n",
    "    def calc_common_word_frequency(text, common_words):\n",
    "        # Convert review to lowercase and split into words\n",
    "        words = str(text).lower().split() if text is not None else []\n",
    "        total_count = len(words)  # Total number of words\n",
    "        \n",
    "        # Count occurrences of common words\n",
    "        common_word_count = sum(1 for word in words if word in common_words)\n",
    "        \n",
    "        # Calculate frequency\n",
    "        frequency = common_word_count / total_count if total_count > 0 else 0  # Avoid division by zero\n",
    "        \n",
    "        return frequency\n",
    "\n",
    "    df['Freq_Star_5'] = df['Text'].apply(lambda x: calc_common_word_frequency(x, common_words_star_5))\n",
    "    df['Freq_Star_4'] = df['Text'].apply(lambda x: calc_common_word_frequency(x, common_words_star_4))\n",
    "    df['Freq_Star_3'] = df['Text'].apply(lambda x: calc_common_word_frequency(x, common_words_star_3))\n",
    "    df['Freq_Star_2'] = df['Text'].apply(lambda x: calc_common_word_frequency(x, common_words_star_2))\n",
    "    df['Freq_Star_1'] = df['Text'].apply(lambda x: calc_common_word_frequency(x, common_words_star_1))\n",
    "    \n",
    "    # # New Feature: Sentiment Score using TextBlob\n",
    "    # def textblob_sentiment(text):\n",
    "    #     blob = TextBlob(str(text))\n",
    "    #     return blob.sentiment.polarity  # Return the polarity score\n",
    "\n",
    "    # df['Sentiment'] = df['Text'].apply(textblob_sentiment)\n",
    "    \n",
    "    return df\n",
    "\n",
    "# # Load the feature extracted files if they've already been generated\n",
    "# if exists('./data/X_train.csv'):\n",
    "#     X_train = pd.read_csv(\"./data/X_train.csv\")\n",
    "# if exists('./data/X_submission.csv'):\n",
    "#     X_submission = pd.read_csv(\"./data/X_submission.csv\")\n",
    "\n",
    "# else:\n",
    "#     # Process the DataFrame\n",
    "#     train = add_features_to(trainingSet)\n",
    "\n",
    "#     # Merge on Id so that the submission set can have feature columns as well\n",
    "#     X_submission = pd.merge(train, testingSet, left_on='Id', right_on='Id')\n",
    "#     X_submission = X_submission.drop(columns=['Score_x'])\n",
    "#     X_submission = X_submission.rename(columns={'Score_y': 'Score'})\n",
    "\n",
    "#     # The training set is where the score is not null\n",
    "#     X_train =  train[train['Score'].notnull()]\n",
    "\n",
    "#     X_submission.to_csv(\"./data/X_submission.csv\", index=False)\n",
    "#     X_train.to_csv(\"./data/X_train.csv\", index=False)\n",
    "# # Process the DataFrame\n",
    "train = add_features_to(trainingSet)\n",
    "\n",
    "# Merge on Id so that the submission set can have feature columns as well\n",
    "X_submission = pd.merge(train, testingSet, left_on='Id', right_on='Id')\n",
    "X_submission = X_submission.drop(columns=['Score_x'])\n",
    "X_submission = X_submission.rename(columns={'Score_y': 'Score'})\n",
    "\n",
    "# The training set is where the score is not null\n",
    "X_train =  train[train['Score'].notnull()]\n",
    "\n",
    "X_submission.to_csv(\"./data/X_submission.csv\", index=False)\n",
    "X_train.to_csv(\"./data/X_train.csv\", index=False)"
   ]
  },
  {
   "cell_type": "markdown",
   "metadata": {},
   "source": [
    "# Sample + Split into training and testing set"
   ]
  },
  {
   "cell_type": "code",
   "execution_count": 10,
   "metadata": {},
   "outputs": [],
   "source": [
    "# Split training set into training and testing set\n",
    "X_train, X_test, Y_train, Y_test = train_test_split(\n",
    "    X_train.drop(columns=['Score']),\n",
    "    X_train['Score'],\n",
    "    test_size=1/4.0,\n",
    "    random_state=0\n",
    ")"
   ]
  },
  {
   "cell_type": "markdown",
   "metadata": {},
   "source": [
    "# Feature Selection"
   ]
  },
  {
   "cell_type": "code",
   "execution_count": 31,
   "metadata": {},
   "outputs": [],
   "source": [
    "features = ['HelpfulnessNumerator', 'HelpfulnessDenominator', 'Time', 'Sentiment', 'Freq_Star_5', 'Freq_Star_4', 'Freq_Star_3', 'Freq_Star_2', 'Freq_Star_1']\n",
    "\n",
    "X_train_select = X_train[features]\n",
    "X_test_select = X_test[features]\n",
    "X_submission_select = X_submission[features]"
   ]
  },
  {
   "cell_type": "markdown",
   "metadata": {},
   "source": [
    "# Model Creation"
   ]
  },
  {
   "cell_type": "code",
   "execution_count": 28,
   "metadata": {},
   "outputs": [],
   "source": [
    "# Learn the model\n",
    "model = KNeighborsClassifier(n_neighbors=3).fit(X_train_select, Y_train)\n",
    "\n",
    "# Predict the score using the model\n",
    "Y_test_predictions = model.predict(X_test_select)"
   ]
  },
  {
   "cell_type": "markdown",
   "metadata": {},
   "source": [
    "# Model Evaluation"
   ]
  },
  {
   "cell_type": "code",
   "execution_count": 29,
   "metadata": {},
   "outputs": [
    {
     "name": "stdout",
     "output_type": "stream",
     "text": [
      "Accuracy on testing set =  0.4315229334080186\n"
     ]
    },
    {
     "data": {
      "image/png": "[encoded data removed]",
      "text/plain": [
       "<Figure size 640x480 with 2 Axes>"
      ]
     },
     "metadata": {},
     "output_type": "display_data"
    }
   ],
   "source": [
    "# Evaluate your model on the testing set\n",
    "print(\"Accuracy on testing set = \", accuracy_score(Y_test, Y_test_predictions))\n",
    "\n",
    "# Plot a confusion matrix\n",
    "cm = confusion_matrix(Y_test, Y_test_predictions, normalize='true')\n",
    "sns.heatmap(cm, annot=True)\n",
    "plt.title('Confusion matrix of the classifier')\n",
    "plt.xlabel('Predicted')\n",
    "plt.ylabel('True')\n",
    "plt.show()"
   ]
  },
  {
   "cell_type": "markdown",
   "metadata": {},
   "source": [
    "# Create submission file"
   ]
  },
  {
   "cell_type": "code",
   "execution_count": 12,
   "metadata": {},
   "outputs": [],
   "source": [
    "# Create the submission file\n",
    "X_submission['Score'] = model.predict(X_submission_select)\n",
    "submission = X_submission[['Id', 'Score']]\n",
    "submission.to_csv(\"./data/submission.csv\", index=False)"
   ]
  }
 ],
 "metadata": {
  "kernelspec": {
   "display_name": "Python 3",
   "language": "python",
   "name": "python3"
  },
  "language_info": {
   "codemirror_mode": {
    "name": "ipython",
    "version": 3
   },
   "file_extension": ".py",
   "mimetype": "text/x-python",
   "name": "python",
   "nbconvert_exporter": "python",
   "pygments_lexer": "ipython3",
   "version": "3.10.12"
  }
 },
 "nbformat": 4,
 "nbformat_minor": 2
}
